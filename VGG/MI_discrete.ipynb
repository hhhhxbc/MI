{
 "cells": [
  {
   "cell_type": "code",
   "execution_count": 1,
   "metadata": {},
   "outputs": [],
   "source": [
    "import torch\n",
    "import torch.nn as nn\n",
    "import numpy as np"
   ]
  },
  {
   "cell_type": "code",
   "execution_count": 2,
   "metadata": {},
   "outputs": [
    {
     "name": "stderr",
     "output_type": "stream",
     "text": [
      "Using cache found in C:\\Users\\huawei/.cache\\torch\\hub\\chenyaofo_pytorch-cifar-models_master\n"
     ]
    }
   ],
   "source": [
    "model = torch.hub.load(\"chenyaofo/pytorch-cifar-models\", \"cifar100_vgg16_bn\", pretrained=True)\n",
    "# model.classifier[4] = nn.Sigmoid()\n",
    "model.load_state_dict(torch.load(\"VGG16_cifar100_sigmoid_origin_1.pth\"))\n",
    "hout = np.load('Hout_VGG16_train.npy', allow_pickle=True)\n",
    "hout = [np.array(h, dtype=np.float32) for h in hout]"
   ]
  },
  {
   "cell_type": "code",
   "execution_count": 3,
   "metadata": {},
   "outputs": [],
   "source": [
    "hout0 = [np.round(h, 0) for h in hout]\n",
    "# 0-1 0.59776796\n",
    "# 0-2 -0.02472771\n",
    "# 0-4 -0.43763658\n",
    "# 0-8 -0.59199387\n",
    "# 0-16 -0.5738108\n",
    "# 0-32 -0.5171188\n",
    "# WHY?"
   ]
  },
  {
   "cell_type": "code",
   "execution_count": 4,
   "metadata": {},
   "outputs": [],
   "source": [
    "def p(x):\n",
    "    unique, counts = np.unique(x, axis=0, return_counts=True)\n",
    "    return unique, counts / len(x)\n",
    "\n",
    "def H(p):\n",
    "    return -np.sum(p * np.log2(p))\n",
    "\n",
    "def MI(x, y, xy):\n",
    "    return H(x) + H(p(y)[1]) - H(p(xy)[1])\n",
    "\n",
    "# x = np.array([i for i in range(len(hout)) for _ in range(len(hout01[i]))])\n",
    "x = np.array([len(h) for h in hout0])\n",
    "x = x / x.sum()\n",
    "y = np.concatenate(hout0, axis=0)\n",
    "xy = np.concatenate([np.c_[hout0[i],[i for _ in hout0[i]]] for i in range(len(hout0))], axis=0)\n",
    "\n",
    "# H(x), H(p(y)[1]), H(p(xy)[1]), MI(x, y, xy)"
   ]
  },
  {
   "cell_type": "code",
   "execution_count": 5,
   "metadata": {},
   "outputs": [],
   "source": [
    "def MIxy(slice):\n",
    "    return MI(x, y[:,slice], xy[:,slice+[-1]])\n",
    "\n",
    "# 不同神经元与最终输出的互信息\n",
    "MIs = [MIxy([i]) for i in range(y.shape[1])]\n",
    "MIs = np.array(MIs)"
   ]
  },
  {
   "cell_type": "code",
   "execution_count": 6,
   "metadata": {},
   "outputs": [],
   "source": [
    "y = np.concatenate(hout, axis=0)\n",
    "hvar = [y[:, i].var() for i in range(y.shape[1])] # Task Variance\n",
    "hvar = np.array(hvar)"
   ]
  },
  {
   "cell_type": "code",
   "execution_count": 7,
   "metadata": {},
   "outputs": [],
   "source": [
    "b = model.classifier[6].bias.data.cpu().numpy()\n",
    "W = model.classifier[6].weight.data.cpu().numpy()\n",
    "B = np.tile(b/W.shape[1], (W.shape[1],1)).T # 认为每条连接对bias的贡献相同\n",
    "b_ = B / W\n",
    "b_ = b_.sum(axis=0)"
   ]
  },
  {
   "cell_type": "code",
   "execution_count": 9,
   "metadata": {},
   "outputs": [
    {
     "data": {
      "text/plain": [
       "array([[1.        , 0.59776796, 0.08179464],\n",
       "       [0.59776796, 1.        , 0.09920422],\n",
       "       [0.08179464, 0.09920422, 1.        ]])"
      ]
     },
     "execution_count": 9,
     "metadata": {},
     "output_type": "execute_result"
    }
   ],
   "source": [
    "np.corrcoef([MIs, hvar, b_])"
   ]
  },
  {
   "cell_type": "code",
   "execution_count": 10,
   "metadata": {},
   "outputs": [
    {
     "data": {
      "text/plain": [
       "(SignificanceResult(statistic=0.5830170102768336, pvalue=6.020445122643349e-48),\n",
       " PearsonRResult(statistic=0.5977679634481455, pvalue=6.418602819133077e-51),\n",
       " SignificanceResult(statistic=0.014682289342076653, pvalue=0.7403211071971914),\n",
       " PearsonRResult(statistic=0.08179463906241465, pvalue=0.06440331053605411),\n",
       " SignificanceResult(statistic=0.04720983036930225, pvalue=0.28632413217271147),\n",
       " PearsonRResult(statistic=0.09920421798866629, pvalue=0.024781708081683142))"
      ]
     },
     "execution_count": 10,
     "metadata": {},
     "output_type": "execute_result"
    }
   ],
   "source": [
    "from scipy import stats\n",
    "# 斯皮尔曼相关系数，皮尔逊相关系数\n",
    "stats.spearmanr(MIs, hvar), stats.pearsonr(MIs, hvar), \\\n",
    "stats.spearmanr(MIs, b_), stats.pearsonr(MIs, b_), \\\n",
    "stats.spearmanr(hvar, b_), stats.pearsonr(hvar, b_)"
   ]
  }
 ],
 "metadata": {
  "kernelspec": {
   "display_name": "pytorch",
   "language": "python",
   "name": "python3"
  },
  "language_info": {
   "codemirror_mode": {
    "name": "ipython",
    "version": 3
   },
   "file_extension": ".py",
   "mimetype": "text/x-python",
   "name": "python",
   "nbconvert_exporter": "python",
   "pygments_lexer": "ipython3",
   "version": "3.10.6"
  }
 },
 "nbformat": 4,
 "nbformat_minor": 2
}
