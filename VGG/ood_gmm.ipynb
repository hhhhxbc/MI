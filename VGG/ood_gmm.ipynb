{
 "cells": [
  {
   "cell_type": "code",
   "execution_count": 28,
   "metadata": {},
   "outputs": [],
   "source": [
    "import numpy as np\n",
    "import matplotlib.pyplot as plt"
   ]
  },
  {
   "cell_type": "code",
   "execution_count": 29,
   "metadata": {},
   "outputs": [],
   "source": [
    "hout = np.load('Hout_VGG16_train.npy', allow_pickle=True)\n",
    "hout = [np.array(hout[i], dtype=np.float32) for i in range(len(hout))]"
   ]
  },
  {
   "cell_type": "code",
   "execution_count": 30,
   "metadata": {},
   "outputs": [
    {
     "name": "stderr",
     "output_type": "stream",
     "text": [
      " 84%|████████▍ | 84/100 [06:18<01:22,  5.17s/it]c:\\Program Files (x86)\\python\\lib\\site-packages\\sklearn\\base.py:1152: ConvergenceWarning: Number of distinct clusters (3) found smaller than n_clusters (12). Possibly due to duplicate points in X.\n",
      "  return fit_method(estimator, *args, **kwargs)\n",
      " 97%|█████████▋| 97/100 [07:31<00:15,  5.11s/it]c:\\Program Files (x86)\\python\\lib\\site-packages\\sklearn\\base.py:1152: ConvergenceWarning: Number of distinct clusters (11) found smaller than n_clusters (12). Possibly due to duplicate points in X.\n",
      "  return fit_method(estimator, *args, **kwargs)\n",
      "100%|██████████| 100/100 [07:45<00:00,  4.65s/it]\n"
     ]
    }
   ],
   "source": [
    "from sklearn.mixture import GaussianMixture\n",
    "from tqdm import tqdm\n",
    "gmm = [[] for _ in range(len(hout))]\n",
    "for i in tqdm(range(len(hout))):\n",
    "    for j in range(hout[i].shape[1]):\n",
    "        X = hout[i][:, [j]]\n",
    "        clf = GaussianMixture(n_components=12, covariance_type='diag', random_state=1)\n",
    "        clf.fit(X)\n",
    "        gmm[i].append(clf)"
   ]
  },
  {
   "cell_type": "code",
   "execution_count": 31,
   "metadata": {},
   "outputs": [],
   "source": [
    "def lp(h, g):\n",
    "    return g.score_samples(h.reshape(-1, 1))\n",
    "\n",
    "def uncertainty(h, y):\n",
    "    llike = np.array([lp(h[:, i], gmm[y][i]) for i in range(len(gmm[0]))])\n",
    "    return llike.sum(axis=0)"
   ]
  },
  {
   "cell_type": "code",
   "execution_count": 32,
   "metadata": {},
   "outputs": [],
   "source": [
    "houtt = np.load('Hout_VGG16_test.npy', allow_pickle=True)\n",
    "houtt = [np.array(houtt[i], dtype=np.float32) for i in range(len(houtt))]"
   ]
  },
  {
   "cell_type": "code",
   "execution_count": 33,
   "metadata": {},
   "outputs": [],
   "source": [
    "y_ture = np.concatenate([houtt[i][:,-1] for i in range(len(houtt))])\n",
    "pro = np.concatenate([uncertainty(houtt[i], i) for i in range(len(houtt))])"
   ]
  },
  {
   "cell_type": "code",
   "execution_count": 34,
   "metadata": {},
   "outputs": [
    {
     "data": {
      "image/png": "[encoded data removed]",
      "text/plain": [
       "<Figure size 640x480 with 1 Axes>"
      ]
     },
     "metadata": {},
     "output_type": "display_data"
    },
    {
     "data": {
      "text/plain": [
       "(87.33290606974818, -31170.414736782288)"
      ]
     },
     "execution_count": 34,
     "metadata": {},
     "output_type": "execute_result"
    }
   ],
   "source": [
    "from sklearn.metrics import roc_curve, roc_auc_score\n",
    "fpr, tpr, thresholds = roc_curve(y_ture, pro)\n",
    "roc_auc = roc_auc_score(y_ture, pro)\n",
    "plt.plot(fpr, tpr, color='r', linestyle='-')\n",
    "plt.show()\n",
    "roc_auc * 100, thresholds[np.argmax(tpr - fpr)]"
   ]
  }
 ],
 "metadata": {
  "kernelspec": {
   "display_name": "Python 3",
   "language": "python",
   "name": "python3"
  },
  "language_info": {
   "codemirror_mode": {
    "name": "ipython",
    "version": 3
   },
   "file_extension": ".py",
   "mimetype": "text/x-python",
   "name": "python",
   "nbconvert_exporter": "python",
   "pygments_lexer": "ipython3",
   "version": "3.10.6"
  }
 },
 "nbformat": 4,
 "nbformat_minor": 2
}
