{
 "cells": [
  {
   "cell_type": "code",
   "execution_count": 3,
   "metadata": {},
   "outputs": [
    {
     "data": {
      "text/plain": [
       "['mnist_test.csv', 'mnist_train.csv']"
      ]
     },
     "execution_count": 3,
     "metadata": {},
     "output_type": "execute_result"
    }
   ],
   "source": [
    "import torch\n",
    "import torch.nn as nn\n",
    "import torch.nn.functional as F\n",
    "import pandas as pd\n",
    "from torch.utils.data import DataLoader, Dataset\n",
    "import numpy as np"
   ]
  },
  {
   "cell_type": "code",
   "execution_count": 4,
   "metadata": {},
   "outputs": [],
   "source": [
    "class MnistDataset(Dataset):\n",
    "    def __init__(self, csv_file):\n",
    "        self.data = pd.read_csv(csv_file, header=None)\n",
    "        self.labels = torch.tensor(self.data.iloc[:, 0].values)\n",
    "        self.features = torch.tensor(self.data.iloc[:, 1:].values, dtype=torch.float32)\n",
    "        \n",
    "    def __len__(self):\n",
    "        return len(self.data)\n",
    "    \n",
    "    def __getitem__(self, idx):\n",
    "        return self.features[idx], self.labels[idx]\n",
    "\n",
    "class Net(nn.Module):\n",
    "    def __init__(self):\n",
    "        super(Net, self).__init__()\n",
    "        self.fc1 = nn.Linear(784, 128)\n",
    "        self.fc2 = nn.Linear(128, 32)\n",
    "        self.fc3 = nn.Linear(32, 10)\n",
    "        \n",
    "    def forward(self, x):\n",
    "        x = F.relu(self.fc1(x))\n",
    "        x = F.sigmoid(self.fc2(x))\n",
    "        x = self.fc3(x)\n",
    "        return F.log_softmax(x, dim=1)"
   ]
  },
  {
   "cell_type": "code",
   "execution_count": 5,
   "metadata": {},
   "outputs": [],
   "source": [
    "batch_size = 64\n",
    "test_batch_size = 1000\n",
    "train_data_file = open(\"mnist_dataset/mnist_train.csv\", 'r')\n",
    "train_dataset = MnistDataset(train_data_file)\n",
    "train_data_file.close()\n",
    "test_data_file = open(\"mnist_dataset/mnist_test.csv\", 'r')\n",
    "test_dataset = MnistDataset(test_data_file)\n",
    "test_data_file.close()\n",
    "train_loader = DataLoader(dataset=train_dataset, batch_size=batch_size, shuffle=True)\n",
    "test_loader = DataLoader(dataset=test_dataset, batch_size=test_batch_size, shuffle=False)\n",
    "\n",
    "seed = 1\n",
    "torch.manual_seed(seed)\n",
    "device = torch.device('cuda' if torch.cuda.is_available() else 'cpu')\n",
    "model = Net().to(device)"
   ]
  },
  {
   "cell_type": "code",
   "execution_count": 4,
   "metadata": {},
   "outputs": [],
   "source": [
    "def taskresponsetrain(model, device, train_loader):\n",
    "    model.eval()\n",
    "    hout = [[] for _ in range(10)]\n",
    "    with torch.no_grad():\n",
    "        for data, target in train_loader:\n",
    "            data, target = data.to(device), target.to(device)\n",
    "            # 取得隐藏层的输出\n",
    "            houtput = F.relu(model.fc1(data))\n",
    "            houtput = F.sigmoid(model.fc2(houtput))\n",
    "            output = model.fc3(houtput)\n",
    "            houtput = houtput.cpu().tolist()\n",
    "            for i, t in enumerate(target):\n",
    "                if output[i].argmax() == t: # 只取预测正确的\n",
    "                    hout[t].append(houtput[i])\n",
    "    return hout"
   ]
  },
  {
   "cell_type": "code",
   "execution_count": 7,
   "metadata": {},
   "outputs": [],
   "source": [
    "model.load_state_dict(torch.load(\"mnist_nn.pth\"))\n",
    "hout = taskresponsetrain(model, device, train_loader)\n",
    "hout = np.array(hout, dtype=object)\n",
    "np.save(\"hout_mnist_train.npy\", hout)"
   ]
  },
  {
   "cell_type": "code",
   "execution_count": 10,
   "metadata": {},
   "outputs": [],
   "source": [
    "def taskresponsetest(model, device, test_loader):\n",
    "    model.eval()\n",
    "    hout = [[] for _ in range(10)]\n",
    "    cor = []\n",
    "    cali = []\n",
    "    with torch.no_grad():\n",
    "        for data, target in test_loader:\n",
    "            data, target = data.to(device), target.to(device)\n",
    "            # 取得隐藏层的输出\n",
    "            houtput = F.relu(model.fc1(data))\n",
    "            houtput = F.sigmoid(model.fc2(houtput))\n",
    "            output = F.softmax(model.fc3(houtput), dim=1)\n",
    "            houtput = houtput.cpu().tolist()\n",
    "            for i, t in enumerate(target):\n",
    "                y = output[i].argmax()\n",
    "                correct = (y==t).cpu()\n",
    "                hout[y].append(houtput[i]+[correct])\n",
    "                cor.append(correct.item())\n",
    "                cali.append(output[i].max().item())\n",
    "    return hout, cor, cali"
   ]
  },
  {
   "cell_type": "code",
   "execution_count": 11,
   "metadata": {},
   "outputs": [],
   "source": [
    "model.load_state_dict(torch.load(\"mnist_nn.pth\"))\n",
    "hout, cor, cali = taskresponsetest(model, device, test_loader)"
   ]
  },
  {
   "cell_type": "code",
   "execution_count": 12,
   "metadata": {},
   "outputs": [],
   "source": [
    "hout = np.array(hout, dtype=object)\n",
    "np.save(\"hout_mnist_test.npy\", hout)"
   ]
  },
  {
   "cell_type": "code",
   "execution_count": 13,
   "metadata": {},
   "outputs": [
    {
     "data": {
      "image/png": "[encoded data removed]",
      "text/plain": [
       "<Figure size 640x480 with 1 Axes>"
      ]
     },
     "metadata": {},
     "output_type": "display_data"
    },
    {
     "data": {
      "text/plain": [
       "0.9549072882170401"
      ]
     },
     "execution_count": 13,
     "metadata": {},
     "output_type": "execute_result"
    }
   ],
   "source": [
    "#ROC，AUROC\n",
    "import matplotlib.pyplot as plt\n",
    "from sklearn.metrics import roc_curve, roc_auc_score\n",
    "fpr, tpr, thresholds = roc_curve(cor, cali)\n",
    "roc_auc = roc_auc_score(cor, cali)\n",
    "plt.plot(fpr, tpr, color='r', linestyle='-')\n",
    "plt.show()\n",
    "roc_auc"
   ]
  }
 ],
 "metadata": {
  "kernelspec": {
   "display_name": "Python 3",
   "language": "python",
   "name": "python3"
  },
  "language_info": {
   "codemirror_mode": {
    "name": "ipython",
    "version": 3
   },
   "file_extension": ".py",
   "mimetype": "text/x-python",
   "name": "python",
   "nbconvert_exporter": "python",
   "pygments_lexer": "ipython3",
   "version": "3.10.6"
  }
 },
 "nbformat": 4,
 "nbformat_minor": 2
}
