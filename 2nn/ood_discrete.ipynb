{
 "cells": [
  {
   "cell_type": "code",
   "execution_count": 1,
   "metadata": {},
   "outputs": [],
   "source": [
    "import numpy as np\n",
    "import matplotlib.pyplot as plt"
   ]
  },
  {
   "cell_type": "code",
   "execution_count": 2,
   "metadata": {},
   "outputs": [],
   "source": [
    "hout = np.load('hout_mnist_train.npy', allow_pickle=True)\n",
    "hout = [np.array(hout[i], dtype=np.float32) for i in range(len(hout))]"
   ]
  },
  {
   "cell_type": "code",
   "execution_count": 3,
   "metadata": {},
   "outputs": [],
   "source": [
    "thre = 0.05\n",
    "chout =  [hout[i].shape[0] for i in range(len(hout))]\n",
    "phout0 = [np.sum(hout[i] < thre, axis=0) / chout[i] for i in range(len(hout))]\n",
    "phout1 = [np.sum(hout[i] > 1-thre, axis=0) / chout[i] for i in range(len(hout))]\n",
    "phoutbetw = [np.sum((hout[i] >= thre) & (hout[i] <= 1-thre) , axis=0) / chout[i] for i in range(len(hout))]"
   ]
  },
  {
   "cell_type": "code",
   "execution_count": 4,
   "metadata": {},
   "outputs": [],
   "source": [
    "def lp(h, y, i):\n",
    "    return np.log(np.where(h < thre, phout0[y][i], \n",
    "                            np.where(h > 1-thre, phout1[y][i], phoutbetw[y][i])) )\n",
    "\n",
    "def uncertainty(houtt, y):\n",
    "    llike = np.array([lp(houtt[y][:, i], y, i) for i in range(phout0[0].shape[0])])\n",
    "    return llike.sum(axis=0)"
   ]
  },
  {
   "cell_type": "code",
   "execution_count": 5,
   "metadata": {},
   "outputs": [],
   "source": [
    "houtt = np.load('hout_mnist_test.npy', allow_pickle=True)\n",
    "houtt = [np.array(houtt[i], dtype=np.float32) for i in range(len(houtt))]"
   ]
  },
  {
   "cell_type": "code",
   "execution_count": 6,
   "metadata": {},
   "outputs": [],
   "source": [
    "y_ture = np.concatenate([houtt[i][:,-1] for i in range(len(houtt))])\n",
    "pro = np.concatenate([uncertainty(houtt, i) for i in range(len(houtt))])"
   ]
  },
  {
   "cell_type": "code",
   "execution_count": 166,
   "metadata": {},
   "outputs": [
    {
     "data": {
      "image/png": "[encoded data removed]",
      "text/plain": [
       "<Figure size 640x480 with 1 Axes>"
      ]
     },
     "metadata": {},
     "output_type": "display_data"
    },
    {
     "data": {
      "text/plain": [
       "(96.03923904471952, -17.78436136387372)"
      ]
     },
     "execution_count": 166,
     "metadata": {},
     "output_type": "execute_result"
    }
   ],
   "source": [
    "from sklearn.metrics import roc_curve, roc_auc_score\n",
    "fpr, tpr, thresholds = roc_curve(y_ture, pro)\n",
    "roc_auc = roc_auc_score(y_ture, pro)\n",
    "plt.plot(fpr, tpr, color='r', linestyle='-')\n",
    "plt.show()\n",
    "roc_auc * 100, thresholds[np.argmax(tpr - fpr)]"
   ]
  }
 ],
 "metadata": {
  "kernelspec": {
   "display_name": "Python 3",
   "language": "python",
   "name": "python3"
  },
  "language_info": {
   "codemirror_mode": {
    "name": "ipython",
    "version": 3
   },
   "file_extension": ".py",
   "mimetype": "text/x-python",
   "name": "python",
   "nbconvert_exporter": "python",
   "pygments_lexer": "ipython3",
   "version": "3.10.6"
  }
 },
 "nbformat": 4,
 "nbformat_minor": 2
}
